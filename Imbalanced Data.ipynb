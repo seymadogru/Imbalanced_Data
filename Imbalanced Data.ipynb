{
 "cells": [
  {
   "cell_type": "code",
   "execution_count": 26,
   "id": "5d6818dc",
   "metadata": {},
   "outputs": [
    {
     "data": {
      "text/html": [
       "<div>\n",
       "<style scoped>\n",
       "    .dataframe tbody tr th:only-of-type {\n",
       "        vertical-align: middle;\n",
       "    }\n",
       "\n",
       "    .dataframe tbody tr th {\n",
       "        vertical-align: top;\n",
       "    }\n",
       "\n",
       "    .dataframe thead th {\n",
       "        text-align: right;\n",
       "    }\n",
       "</style>\n",
       "<table border=\"1\" class=\"dataframe\">\n",
       "  <thead>\n",
       "    <tr style=\"text-align: right;\">\n",
       "      <th></th>\n",
       "      <th>age</th>\n",
       "      <th>sex</th>\n",
       "      <th>cp</th>\n",
       "      <th>trestbps</th>\n",
       "      <th>chol</th>\n",
       "      <th>fbs</th>\n",
       "      <th>restecg</th>\n",
       "      <th>thalach</th>\n",
       "      <th>exang</th>\n",
       "      <th>oldpeak</th>\n",
       "      <th>slope</th>\n",
       "      <th>ca</th>\n",
       "      <th>thal</th>\n",
       "      <th>target</th>\n",
       "    </tr>\n",
       "  </thead>\n",
       "  <tbody>\n",
       "    <tr>\n",
       "      <th>0</th>\n",
       "      <td>63</td>\n",
       "      <td>1</td>\n",
       "      <td>3</td>\n",
       "      <td>145</td>\n",
       "      <td>233</td>\n",
       "      <td>1</td>\n",
       "      <td>0</td>\n",
       "      <td>150</td>\n",
       "      <td>0</td>\n",
       "      <td>2.3</td>\n",
       "      <td>0</td>\n",
       "      <td>0</td>\n",
       "      <td>1</td>\n",
       "      <td>1</td>\n",
       "    </tr>\n",
       "    <tr>\n",
       "      <th>1</th>\n",
       "      <td>37</td>\n",
       "      <td>1</td>\n",
       "      <td>2</td>\n",
       "      <td>130</td>\n",
       "      <td>250</td>\n",
       "      <td>0</td>\n",
       "      <td>1</td>\n",
       "      <td>187</td>\n",
       "      <td>0</td>\n",
       "      <td>3.5</td>\n",
       "      <td>0</td>\n",
       "      <td>0</td>\n",
       "      <td>2</td>\n",
       "      <td>1</td>\n",
       "    </tr>\n",
       "    <tr>\n",
       "      <th>2</th>\n",
       "      <td>41</td>\n",
       "      <td>0</td>\n",
       "      <td>1</td>\n",
       "      <td>130</td>\n",
       "      <td>204</td>\n",
       "      <td>0</td>\n",
       "      <td>0</td>\n",
       "      <td>172</td>\n",
       "      <td>0</td>\n",
       "      <td>1.4</td>\n",
       "      <td>2</td>\n",
       "      <td>0</td>\n",
       "      <td>2</td>\n",
       "      <td>1</td>\n",
       "    </tr>\n",
       "    <tr>\n",
       "      <th>3</th>\n",
       "      <td>56</td>\n",
       "      <td>1</td>\n",
       "      <td>1</td>\n",
       "      <td>120</td>\n",
       "      <td>236</td>\n",
       "      <td>0</td>\n",
       "      <td>1</td>\n",
       "      <td>178</td>\n",
       "      <td>0</td>\n",
       "      <td>0.8</td>\n",
       "      <td>2</td>\n",
       "      <td>0</td>\n",
       "      <td>2</td>\n",
       "      <td>1</td>\n",
       "    </tr>\n",
       "    <tr>\n",
       "      <th>4</th>\n",
       "      <td>57</td>\n",
       "      <td>0</td>\n",
       "      <td>0</td>\n",
       "      <td>120</td>\n",
       "      <td>354</td>\n",
       "      <td>0</td>\n",
       "      <td>1</td>\n",
       "      <td>163</td>\n",
       "      <td>1</td>\n",
       "      <td>0.6</td>\n",
       "      <td>2</td>\n",
       "      <td>0</td>\n",
       "      <td>2</td>\n",
       "      <td>1</td>\n",
       "    </tr>\n",
       "  </tbody>\n",
       "</table>\n",
       "</div>"
      ],
      "text/plain": [
       "   age  sex  cp  trestbps  chol  fbs  restecg  thalach  exang  oldpeak  slope  \\\n",
       "0   63    1   3       145   233    1        0      150      0      2.3      0   \n",
       "1   37    1   2       130   250    0        1      187      0      3.5      0   \n",
       "2   41    0   1       130   204    0        0      172      0      1.4      2   \n",
       "3   56    1   1       120   236    0        1      178      0      0.8      2   \n",
       "4   57    0   0       120   354    0        1      163      1      0.6      2   \n",
       "\n",
       "   ca  thal  target  \n",
       "0   0     1       1  \n",
       "1   0     2       1  \n",
       "2   0     2       1  \n",
       "3   0     2       1  \n",
       "4   0     2       1  "
      ]
     },
     "execution_count": 26,
     "metadata": {},
     "output_type": "execute_result"
    }
   ],
   "source": [
    "df = pd.read_csv(\"heart.csv\")\n",
    "df.head()"
   ]
  },
  {
   "cell_type": "code",
   "execution_count": 27,
   "id": "c27aa497",
   "metadata": {},
   "outputs": [],
   "source": [
    "import pandas as pd\n",
    "import numpy as np\n",
    "from sklearn.model_selection import train_test_split\n",
    "from sklearn.linear_model import LogisticRegression\n",
    "from sklearn.metrics import confusion_matrix\n",
    "from sklearn.metrics import classification_report\n",
    "\n",
    "\n",
    "def model_olustur(X, y):\n",
    "    X_eğitim, X_test, y_eğitim, y_test =  train_test_split(X, y, test_size=0.20, random_state=111, stratify = y)\n",
    "    logreg_model = LogisticRegression()\n",
    "    logreg_model.fit(X_eğitim, y_eğitim)\n",
    "\n",
    "    tahmin_eğitim = logreg_model.predict(X_eğitim)\n",
    "    tahmin_test = logreg_model.predict(X_test)\n",
    "    hata_matrisi_eğitim = confusion_matrix(y_eğitim, tahmin_eğitim)\n",
    "    hata_matrisi_test = confusion_matrix(y_test, tahmin_test)\n",
    "    print(\"Modelin doğruluk değeri : \",  logreg_model.score(X_test, y_test))\n",
    "    print(\"Eğitim veri kümesi\")\n",
    "    print(classification_report(y_eğitim,tahmin_eğitim) )\n",
    "    print(\"Test veri kümesi\")\n",
    "    print(classification_report(y_test,tahmin_test) )\n",
    "    return  None"
   ]
  },
  {
   "cell_type": "code",
   "execution_count": 28,
   "id": "876162fe",
   "metadata": {},
   "outputs": [
    {
     "name": "stdout",
     "output_type": "stream",
     "text": [
      "Modelin doğruluk değeri :  0.7540983606557377\n",
      "Eğitim veri kümesi\n",
      "              precision    recall  f1-score   support\n",
      "\n",
      "           0       0.91      0.79      0.84       110\n",
      "           1       0.84      0.93      0.88       132\n",
      "\n",
      "    accuracy                           0.87       242\n",
      "   macro avg       0.87      0.86      0.86       242\n",
      "weighted avg       0.87      0.87      0.87       242\n",
      "\n",
      "Test veri kümesi\n",
      "              precision    recall  f1-score   support\n",
      "\n",
      "           0       0.76      0.68      0.72        28\n",
      "           1       0.75      0.82      0.78        33\n",
      "\n",
      "    accuracy                           0.75        61\n",
      "   macro avg       0.76      0.75      0.75        61\n",
      "weighted avg       0.75      0.75      0.75        61\n",
      "\n"
     ]
    }
   ],
   "source": [
    "X = df.drop('target', axis=1)\n",
    "y = df['target']\n",
    "model_olustur(X,y)"
   ]
  },
  {
   "cell_type": "markdown",
   "id": "0433e4f7",
   "metadata": {},
   "source": [
    "**Önce örneklem artırma örneği yapalım**"
   ]
  },
  {
   "cell_type": "code",
   "execution_count": 31,
   "id": "478b42a9",
   "metadata": {},
   "outputs": [
    {
     "data": {
      "text/plain": [
       "0    165\n",
       "1    165\n",
       "Name: target, dtype: int64"
      ]
     },
     "execution_count": 31,
     "metadata": {},
     "output_type": "execute_result"
    }
   ],
   "source": [
    "from sklearn.utils import resample\n",
    "kalp_krizi_yok= df[df.target == 0]\n",
    "kalp_krizi_var = df[df.target == 1]\n",
    "\n",
    "kalp_krizi_artırılmış = resample(kalp_krizi_yok,\n",
    "                                     replace = True,\n",
    "                                     n_samples = len(kalp_krizi_var),\n",
    "                                     random_state = 111)\n",
    "\n",
    "artırılmıs_df = pd.concat([kalp_krizi_var, kalp_krizi_artırılmış])\n",
    "artırılmıs_df.target.value_counts()"
   ]
  },
  {
   "cell_type": "code",
   "execution_count": 32,
   "id": "51f6a400",
   "metadata": {},
   "outputs": [
    {
     "name": "stdout",
     "output_type": "stream",
     "text": [
      "Modelin doğruluk değeri :  0.8787878787878788\n",
      "Eğitim veri kümesi\n",
      "              precision    recall  f1-score   support\n",
      "\n",
      "           0       0.87      0.78      0.82       132\n",
      "           1       0.80      0.89      0.84       132\n",
      "\n",
      "    accuracy                           0.83       264\n",
      "   macro avg       0.84      0.83      0.83       264\n",
      "weighted avg       0.84      0.83      0.83       264\n",
      "\n",
      "Test veri kümesi\n",
      "              precision    recall  f1-score   support\n",
      "\n",
      "           0       0.90      0.85      0.88        33\n",
      "           1       0.86      0.91      0.88        33\n",
      "\n",
      "    accuracy                           0.88        66\n",
      "   macro avg       0.88      0.88      0.88        66\n",
      "weighted avg       0.88      0.88      0.88        66\n",
      "\n"
     ]
    }
   ],
   "source": [
    "X = artırılmıs_df.drop('target', axis=1)\n",
    "y = artırılmıs_df['target']\n",
    "model_olustur(X,y)"
   ]
  },
  {
   "cell_type": "markdown",
   "id": "eafa378f",
   "metadata": {},
   "source": [
    "**Örneklem azaltma örneği yapalım.**"
   ]
  },
  {
   "cell_type": "code",
   "execution_count": 33,
   "id": "3116e889",
   "metadata": {},
   "outputs": [
    {
     "data": {
      "text/plain": [
       "0    138\n",
       "1    138\n",
       "Name: target, dtype: int64"
      ]
     },
     "execution_count": 33,
     "metadata": {},
     "output_type": "execute_result"
    }
   ],
   "source": [
    "kalp_krizi_yok= df[df.target == 0]\n",
    "kalp_krizi_var = df[df.target == 1]\n",
    "\n",
    "kalp_krizi_artırılmış = resample(kalp_krizi_var,\n",
    "                                     replace = True,\n",
    "                                     n_samples = len(kalp_krizi_yok),\n",
    "                                     random_state = 111)\n",
    "\n",
    "\n",
    "artırılmıs_df = pd.concat([kalp_krizi_yok, kalp_krizi_artırılmış])\n",
    "artırılmıs_df.target.value_counts()"
   ]
  },
  {
   "cell_type": "code",
   "execution_count": 34,
   "id": "282f7cbc",
   "metadata": {},
   "outputs": [
    {
     "name": "stdout",
     "output_type": "stream",
     "text": [
      "Modelin doğruluk değeri :  0.8035714285714286\n",
      "Eğitim veri kümesi\n",
      "              precision    recall  f1-score   support\n",
      "\n",
      "           0       0.91      0.84      0.87       110\n",
      "           1       0.85      0.92      0.88       110\n",
      "\n",
      "    accuracy                           0.88       220\n",
      "   macro avg       0.88      0.88      0.88       220\n",
      "weighted avg       0.88      0.88      0.88       220\n",
      "\n",
      "Test veri kümesi\n",
      "              precision    recall  f1-score   support\n",
      "\n",
      "           0       0.81      0.79      0.80        28\n",
      "           1       0.79      0.82      0.81        28\n",
      "\n",
      "    accuracy                           0.80        56\n",
      "   macro avg       0.80      0.80      0.80        56\n",
      "weighted avg       0.80      0.80      0.80        56\n",
      "\n"
     ]
    }
   ],
   "source": [
    "X = artırılmıs_df.drop('target', axis=1)\n",
    "y = artırılmıs_df['target']\n",
    "model_olustur(X,y)"
   ]
  },
  {
   "cell_type": "markdown",
   "id": "b0967bd8",
   "metadata": {},
   "source": [
    "**SMOTE Örneği Yapalım.**"
   ]
  },
  {
   "cell_type": "code",
   "execution_count": 36,
   "id": "f8ff19f9",
   "metadata": {},
   "outputs": [
    {
     "name": "stdout",
     "output_type": "stream",
     "text": [
      "Collecting imbalanced-learn\n",
      "  Downloading imbalanced_learn-0.8.1-py3-none-any.whl (189 kB)\n",
      "Requirement already satisfied: joblib>=0.11 in c:\\users\\seyma\\anaconda3\\lib\\site-packages (from imbalanced-learn) (1.0.1)\n",
      "Requirement already satisfied: scikit-learn>=0.24 in c:\\users\\seyma\\anaconda3\\lib\\site-packages (from imbalanced-learn) (0.24.1)\n",
      "Requirement already satisfied: scipy>=0.19.1 in c:\\users\\seyma\\anaconda3\\lib\\site-packages (from imbalanced-learn) (1.6.2)\n",
      "Requirement already satisfied: numpy>=1.13.3 in c:\\users\\seyma\\anaconda3\\lib\\site-packages (from imbalanced-learn) (1.20.1)\n",
      "Requirement already satisfied: threadpoolctl>=2.0.0 in c:\\users\\seyma\\anaconda3\\lib\\site-packages (from scikit-learn>=0.24->imbalanced-learn) (2.1.0)\n",
      "Installing collected packages: imbalanced-learn\n",
      "Successfully installed imbalanced-learn-0.8.1\n",
      "Note: you may need to restart the kernel to use updated packages.\n"
     ]
    }
   ],
   "source": [
    "pip install -U imbalanced-learn"
   ]
  },
  {
   "cell_type": "code",
   "execution_count": 41,
   "id": "ce36fe40",
   "metadata": {},
   "outputs": [
    {
     "name": "stdout",
     "output_type": "stream",
     "text": [
      "Modelin doğruluk değeri :  0.8939393939393939\n",
      "Eğitim veri kümesi\n",
      "              precision    recall  f1-score   support\n",
      "\n",
      "           0       0.90      0.83      0.86       132\n",
      "           1       0.84      0.91      0.87       132\n",
      "\n",
      "    accuracy                           0.87       264\n",
      "   macro avg       0.87      0.87      0.87       264\n",
      "weighted avg       0.87      0.87      0.87       264\n",
      "\n",
      "Test veri kümesi\n",
      "              precision    recall  f1-score   support\n",
      "\n",
      "           0       0.96      0.82      0.89        33\n",
      "           1       0.84      0.97      0.90        33\n",
      "\n",
      "    accuracy                           0.89        66\n",
      "   macro avg       0.90      0.89      0.89        66\n",
      "weighted avg       0.90      0.89      0.89        66\n",
      "\n"
     ]
    }
   ],
   "source": [
    "\n",
    "from imblearn.over_sampling import SMOTE\n",
    "y = df.target\n",
    "X = df.drop('target', axis=1)\n",
    "\n",
    "sm = SMOTE(random_state=27)\n",
    "X_smote, y_smote = sm.fit_resample(X, y)\n",
    "model_olustur(X_smote, y_smote)"
   ]
  },
  {
   "cell_type": "markdown",
   "id": "db8817d6",
   "metadata": {},
   "source": [
    "**ADASYN Örneği Yapalım.**"
   ]
  },
  {
   "cell_type": "code",
   "execution_count": 74,
   "id": "bc0afe42",
   "metadata": {},
   "outputs": [
    {
     "ename": "ValueError",
     "evalue": "No samples will be generated with the provided ratio settings.",
     "output_type": "error",
     "traceback": [
      "\u001b[1;31m---------------------------------------------------------------------------\u001b[0m",
      "\u001b[1;31mValueError\u001b[0m                                Traceback (most recent call last)",
      "\u001b[1;32m<ipython-input-74-a79285f76b35>\u001b[0m in \u001b[0;36m<module>\u001b[1;34m\u001b[0m\n\u001b[0;32m      4\u001b[0m \u001b[1;33m\u001b[0m\u001b[0m\n\u001b[0;32m      5\u001b[0m \u001b[0mada\u001b[0m \u001b[1;33m=\u001b[0m \u001b[0mADASYN\u001b[0m\u001b[1;33m(\u001b[0m\u001b[1;33m)\u001b[0m\u001b[1;33m\u001b[0m\u001b[1;33m\u001b[0m\u001b[0m\n\u001b[1;32m----> 6\u001b[1;33m \u001b[0mX_res\u001b[0m\u001b[1;33m,\u001b[0m \u001b[0my_res\u001b[0m \u001b[1;33m=\u001b[0m \u001b[0mada\u001b[0m\u001b[1;33m.\u001b[0m\u001b[0mfit_resample\u001b[0m\u001b[1;33m(\u001b[0m\u001b[0mX\u001b[0m\u001b[1;33m,\u001b[0m \u001b[0my\u001b[0m\u001b[1;33m)\u001b[0m\u001b[1;33m\u001b[0m\u001b[1;33m\u001b[0m\u001b[0m\n\u001b[0m\u001b[0;32m      7\u001b[0m \u001b[1;31m#model_olustur(X_res, y_res)\u001b[0m\u001b[1;33m\u001b[0m\u001b[1;33m\u001b[0m\u001b[1;33m\u001b[0m\u001b[0m\n",
      "\u001b[1;32m~\\anaconda3\\lib\\site-packages\\imblearn\\base.py\u001b[0m in \u001b[0;36mfit_resample\u001b[1;34m(self, X, y)\u001b[0m\n\u001b[0;32m     81\u001b[0m         )\n\u001b[0;32m     82\u001b[0m \u001b[1;33m\u001b[0m\u001b[0m\n\u001b[1;32m---> 83\u001b[1;33m         \u001b[0moutput\u001b[0m \u001b[1;33m=\u001b[0m \u001b[0mself\u001b[0m\u001b[1;33m.\u001b[0m\u001b[0m_fit_resample\u001b[0m\u001b[1;33m(\u001b[0m\u001b[0mX\u001b[0m\u001b[1;33m,\u001b[0m \u001b[0my\u001b[0m\u001b[1;33m)\u001b[0m\u001b[1;33m\u001b[0m\u001b[1;33m\u001b[0m\u001b[0m\n\u001b[0m\u001b[0;32m     84\u001b[0m \u001b[1;33m\u001b[0m\u001b[0m\n\u001b[0;32m     85\u001b[0m         y_ = (\n",
      "\u001b[1;32m~\\anaconda3\\lib\\site-packages\\imblearn\\over_sampling\\_adasyn.py\u001b[0m in \u001b[0;36m_fit_resample\u001b[1;34m(self, X, y)\u001b[0m\n\u001b[0;32m    145\u001b[0m             \u001b[0mn_samples\u001b[0m \u001b[1;33m=\u001b[0m \u001b[0mnp\u001b[0m\u001b[1;33m.\u001b[0m\u001b[0msum\u001b[0m\u001b[1;33m(\u001b[0m\u001b[0mn_samples_generate\u001b[0m\u001b[1;33m)\u001b[0m\u001b[1;33m\u001b[0m\u001b[1;33m\u001b[0m\u001b[0m\n\u001b[0;32m    146\u001b[0m             \u001b[1;32mif\u001b[0m \u001b[1;32mnot\u001b[0m \u001b[0mn_samples\u001b[0m\u001b[1;33m:\u001b[0m\u001b[1;33m\u001b[0m\u001b[1;33m\u001b[0m\u001b[0m\n\u001b[1;32m--> 147\u001b[1;33m                 raise ValueError(\n\u001b[0m\u001b[0;32m    148\u001b[0m                     \u001b[1;34m\"No samples will be generated with the provided ratio settings.\"\u001b[0m\u001b[1;33m\u001b[0m\u001b[1;33m\u001b[0m\u001b[0m\n\u001b[0;32m    149\u001b[0m                 )\n",
      "\u001b[1;31mValueError\u001b[0m: No samples will be generated with the provided ratio settings."
     ]
    }
   ],
   "source": [
    "from imblearn.over_sampling import ADASYN\n",
    "y = df.target\n",
    "X = df.drop('target', axis=1)\n",
    "\n",
    "ada = ADASYN()\n",
    "X_res, y_res = ada.fit_resample(X, y)\n",
    "model_olustur(X_res, y_res)"
   ]
  },
  {
   "cell_type": "markdown",
   "id": "98968260",
   "metadata": {},
   "source": [
    "**Adasyn'de böyle bir hata vermekte. Çözümünü bulamadım, üzerinde çalışıyorum.**"
   ]
  },
  {
   "cell_type": "code",
   "execution_count": null,
   "id": "d3a69d37",
   "metadata": {},
   "outputs": [],
   "source": []
  }
 ],
 "metadata": {
  "kernelspec": {
   "display_name": "Python 3",
   "language": "python",
   "name": "python3"
  },
  "language_info": {
   "codemirror_mode": {
    "name": "ipython",
    "version": 3
   },
   "file_extension": ".py",
   "mimetype": "text/x-python",
   "name": "python",
   "nbconvert_exporter": "python",
   "pygments_lexer": "ipython3",
   "version": "3.8.8"
  }
 },
 "nbformat": 4,
 "nbformat_minor": 5
}
